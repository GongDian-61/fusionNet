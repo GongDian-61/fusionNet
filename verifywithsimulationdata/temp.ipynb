{
 "cells": [
  {
   "cell_type": "code",
   "execution_count": 1,
   "metadata": {},
   "outputs": [],
   "source": [
    "import numpy as np\n",
    "import os\n",
    "import scipy.io as sio\n",
    "import pandas as pd"
   ]
  },
  {
   "cell_type": "code",
   "execution_count": 2,
   "metadata": {},
   "outputs": [
    {
     "name": "stdout",
     "output_type": "stream",
     "text": [
      "(2, 1968, 226)\n",
      "(2, 1968, 226)\n",
      "(2, 2048, 256)\n"
     ]
    }
   ],
   "source": [
    "gt=np.load(r\"/media/eadu/DATA/sim_groudtruth/gt_in_slices_repeat/gt_model2_scatter1_frame4.npy\")\n",
    "print(gt.shape)\n",
    "gta = gt[0]\n",
    "t= sio.loadmat(r\"/media/eadu/DATA/fusionNet/displacementBYtradMethod/sim_result/model2scatter_1_frame4.mat\")['displ']\n",
    "print(t.shape)\n",
    "ta=t[0]\n",
    "o = np.load(r\"/media/eadu/DATA/displacementBYoptflow/displ_model2_scatter1_frame4.npy\")\n",
    "oa=o[1]\n",
    "print(o.shape)\n",
    "\n"
   ]
  },
  {
   "cell_type": "code",
   "execution_count": null,
   "metadata": {},
   "outputs": [],
   "source": [
    "class Decoder(nn.Module):\n",
    "    def __init__(self, out_channels, in_channels=1024):\n",
    "        super(Decoder, self).__init__()\n",
    "        # self.conv_in = nn.Conv2d(in_channels, 512, kernel_size=3, stride=1, padding=1)\n",
    "        self.upconv1 = nn.Conv2d(in_channels, 512, kernel_size=3, stride=1, padding=1)\n",
    "        self.upconv2 = nn.Conv2d(512, 256, kernel_size=3, stride=1, padding=1)\n",
    "        self.upconv3 = nn.Conv2d(256, 128, kernel_size=3, stride=1, padding=1)\n",
    "        # self.upconv4 = nn.Conv2d(128, 64, kernel_size=3, stride=1, padding=1)\n",
    "        self.final_conv = nn.Conv2d(128, out_channels, kernel_size=7, stride=1, padding=3)\n",
    "    \n",
    "    def forward(self, x4, x3, x2, x1):\n",
    "        # x4 = F.relu(self.conv_in(F.interpolate(x4, scale_factor=2, mode='nearest')))\n",
    "        x = F.relu(self.upconv1(F.interpolate(x4, scale_factor=2, mode='nearest')))\n",
    "        if x.shape != x3.shape:\n",
    "            x = F.interpolate(x, size=x3.shape[-2:], mode='bilinear', align_corners=False)\n",
    "        \n",
    "        x = F.relu(self.upconv2(F.interpolate(x + x3, scale_factor=2, mode='nearest')))\n",
    "        if x.shape != x2.shape:\n",
    "            x = F.interpolate(x, size=x2.shape[-2:], mode='bilinear', align_corners=False)\n",
    "        \n",
    "        x = F.relu(self.upconv3(F.interpolate(x + x2, scale_factor=2, mode='nearest')))\n",
    "        if x.shape != x1.shape:\n",
    "            x = F.interpolate(x, size=x1.shape[-2:], mode='bilinear', align_corners=False)        \n",
    "        # x = F.relu(self.upconv4(F.interpolate(x + x1, scale_factor=2, mode='nearest')))\n",
    "        x = torch.tanh(self.final_conv(x + x1))\n",
    "        return x"
   ]
  },
  {
   "cell_type": "code",
   "execution_count": null,
   "metadata": {},
   "outputs": [],
   "source": [
    "class Decoder(nn.Module):\n",
    "    def __init__(self,out_channels,in_channels=1024):\n",
    "        super(Decoder, self).__init__()\n",
    "        # self.conv_in = nn.Conv2d(in_channels, 512, kernel_size=3, stride=1, padding=1)\n",
    "        self.upconv1 = nn.Conv2d(in_channels, 512, kernel_size=3, stride=1, padding=1)\n",
    "        self.upconv2 = nn.Conv2d(512, 256, kernel_size=3, stride=1, padding=1)\n",
    "        self.upconv3 = nn.Conv2d(256, 128, kernel_size=3, stride=1, padding=1)\n",
    "        # self.upconv4 = nn.Conv2d(128, 64, kernel_size=3, stride=1, padding=1)\n",
    "        self.final_conv = nn.Conv2d(128, out_channels, kernel_size=7, stride=1, padding=3)\n",
    "    \n",
    "    def forward(self, x4, x3, x2, x1):\n",
    "        # x4 = F.relu(self.conv_in(F.interpolate(x4, scale_factor=2, mode='nearest')))\n",
    "        x = F.relu(self.upconv1(F.interpolate(x4, scale_factor=2, mode='nearest')))\n",
    "        if x.shape != x3.shape:\n",
    "            x = F.interpolate(x,size=x3.shape[-2:], mode='bilinear', align_corners=False)\n",
    "        \n",
    "        x = F.relu(self.upconv2(F.interpolate(x + x3, scale_factor=2, mode='nearest')))\n",
    "        if x.shape != x2.shape:\n",
    "            x = F.interpolate(x,size=x2.shape[-2:], mode='bilinear', align_corners=False)\n",
    "        \n",
    "        x = F.relu(self.upconv3(F.interpolate(x + x2, scale_factor=2, mode='nearest')))\n",
    "        if x.shape != x1.shape:\n",
    "            x = F.interpolate(x,size=x1.shape[-2:], mode='bilinear', align_corners=False)        \n",
    "        # x = F.relu(self.upconv4(F.interpolate(x +x1, scale_factor=2, mode='nearest')))\n",
    "        x = torch.sigmoid(self.final_conv(x+x1))\n",
    "        return x"
   ]
  }
 ],
 "metadata": {
  "kernelspec": {
   "display_name": "dian",
   "language": "python",
   "name": "python3"
  },
  "language_info": {
   "codemirror_mode": {
    "name": "ipython",
    "version": 3
   },
   "file_extension": ".py",
   "mimetype": "text/x-python",
   "name": "python",
   "nbconvert_exporter": "python",
   "pygments_lexer": "ipython3",
   "version": "3.10.15"
  }
 },
 "nbformat": 4,
 "nbformat_minor": 2
}
